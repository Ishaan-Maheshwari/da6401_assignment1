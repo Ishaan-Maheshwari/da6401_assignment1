{
 "cells": [
  {
   "cell_type": "code",
   "execution_count": 2,
   "id": "e6f7b335",
   "metadata": {},
   "outputs": [],
   "source": [
    "import wandb\n",
    "import matplotlib.pyplot as plt\n",
    "from keras.datasets import fashion_mnist"
   ]
  },
  {
   "cell_type": "code",
   "execution_count": null,
   "id": "b7ccfc53-3951-4d6f-8985-80f15288d6bd",
   "metadata": {},
   "outputs": [],
   "source": [
    "wandb.login()"
   ]
  },
  {
   "cell_type": "code",
   "execution_count": null,
   "id": "facc7dca-ea3a-420e-a48f-78a1ffad4a26",
   "metadata": {},
   "outputs": [],
   "source": [
    "wandb.init(project='assignment-1', entity=\"ishaan_maheshwari-indian-institute-of-technology-madras\" )"
   ]
  },
  {
   "cell_type": "code",
   "execution_count": null,
   "id": "42fed7b1-7bf5-4b45-974d-f3e232fc4ec9",
   "metadata": {},
   "outputs": [],
   "source": [
    "(x_train, y_train), (x_test, y_test) = fashion_mnist.load_data()"
   ]
  }
 ],
 "metadata": {
  "kernelspec": {
   "display_name": "Python 3 (ipykernel)",
   "language": "python",
   "name": "python3"
  },
  "language_info": {
   "codemirror_mode": {
    "name": "ipython",
    "version": 3
   },
   "file_extension": ".py",
   "mimetype": "text/x-python",
   "name": "python",
   "nbconvert_exporter": "python",
   "pygments_lexer": "ipython3",
   "version": "3.12.5"
  }
 },
 "nbformat": 4,
 "nbformat_minor": 5
}
